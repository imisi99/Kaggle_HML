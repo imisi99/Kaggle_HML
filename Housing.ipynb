{
 "cells": [
  {
   "metadata": {},
   "cell_type": "markdown",
   "source": "#### This is the Training of Models for the kaggle Housing Competition",
   "id": "6daab436c394dcee"
  },
  {
   "cell_type": "code",
   "id": "initial_id",
   "metadata": {
    "ExecuteTime": {
     "end_time": "2025-01-11T18:19:03.239305Z",
     "start_time": "2025-01-11T18:19:03.233331Z"
    }
   },
   "source": [
    "import numpy as np\n",
    "import tensorflow as tf\n",
    "import matplotlib.pyplot as plt\n",
    "from sklearn.linear_model import LinearRegression\n",
    "from sklearn.metrics import root_mean_squared_error\n",
    "from sklearn.preprocessing import StandardScaler, PolynomialFeatures\n",
    "from sklearn.model_selection import train_test_split\n",
    "import xgboost as xgb\n",
    "from tensorflow.keras.models import Sequential\n",
    "from tensorflow.keras.layers import Dense\n",
    "from utils import *\n",
    "\n",
    "\n",
    "plt.style.use('deeplearning.mplstyle')"
   ],
   "outputs": [],
   "execution_count": 78
  },
  {
   "cell_type": "code",
   "id": "7019e442fd32d2b1",
   "metadata": {
    "ExecuteTime": {
     "end_time": "2025-01-11T18:19:03.590590Z",
     "start_time": "2025-01-11T18:19:03.525795Z"
    }
   },
   "source": [
    "# Loading, Cleaning and One Hot Encoding Data\n",
    "data = './data/train.csv'\n",
    "df = modifying_data(data)"
   ],
   "outputs": [
    {
     "name": "stdout",
     "output_type": "stream",
     "text": [
      "data before processing...\n",
      "   Id  MSSubClass MSZoning  LotFrontage  LotArea Street Alley LotShape  \\\n",
      "0   1          60       RL         65.0     8450   Pave   NaN      Reg   \n",
      "1   2          20       RL         80.0     9600   Pave   NaN      Reg   \n",
      "2   3          60       RL         68.0    11250   Pave   NaN      IR1   \n",
      "3   4          70       RL         60.0     9550   Pave   NaN      IR1   \n",
      "4   5          60       RL         84.0    14260   Pave   NaN      IR1   \n",
      "\n",
      "  LandContour Utilities  ... PoolArea PoolQC Fence MiscFeature MiscVal MoSold  \\\n",
      "0         Lvl    AllPub  ...        0    NaN   NaN         NaN       0      2   \n",
      "1         Lvl    AllPub  ...        0    NaN   NaN         NaN       0      5   \n",
      "2         Lvl    AllPub  ...        0    NaN   NaN         NaN       0      9   \n",
      "3         Lvl    AllPub  ...        0    NaN   NaN         NaN       0      2   \n",
      "4         Lvl    AllPub  ...        0    NaN   NaN         NaN       0     12   \n",
      "\n",
      "  YrSold  SaleType  SaleCondition  SalePrice  \n",
      "0   2008        WD         Normal     208500  \n",
      "1   2007        WD         Normal     181500  \n",
      "2   2008        WD         Normal     223500  \n",
      "3   2006        WD        Abnorml     140000  \n",
      "4   2008        WD         Normal     250000  \n",
      "\n",
      "[5 rows x 81 columns]\n",
      "Data after preprocessing:\n",
      "   LotFrontage  LotArea  OverallQual  OverallCond  YearBuilt  MasVnrArea  \\\n",
      "0         65.0     8450            7            5       2003       196.0   \n",
      "1         80.0     9600            6            8       1976         0.0   \n",
      "2         68.0    11250            7            5       2001       162.0   \n",
      "3         60.0     9550            7            5       1915         0.0   \n",
      "4         84.0    14260            8            5       2000       350.0   \n",
      "\n",
      "   BsmtFinSF1  BsmtUnfSF  TotalBsmtSF  1stFlrSF  ...  BsmtHalfBath  FullBath  \\\n",
      "0         706        150          856       856  ...             0         2   \n",
      "1         978        284         1262      1262  ...             1         2   \n",
      "2         486        434          920       920  ...             0         2   \n",
      "3         216        540          756       961  ...             0         1   \n",
      "4         655        490         1145      1145  ...             0         2   \n",
      "\n",
      "   HalfBath  BedroomAbvGr  KitchenAbvGr  TotRmsAbvGrd  Fireplaces  GarageCars  \\\n",
      "0         1             3             1             8           0           2   \n",
      "1         0             3             1             6           1           2   \n",
      "2         1             3             1             6           1           2   \n",
      "3         0             3             1             7           1           3   \n",
      "4         1             4             1             9           1           3   \n",
      "\n",
      "   PoolArea  SalePrice  \n",
      "0         0     208500  \n",
      "1         0     181500  \n",
      "2         0     223500  \n",
      "3         0     140000  \n",
      "4         0     250000  \n",
      "\n",
      "[5 rows x 23 columns]\n"
     ]
    }
   ],
   "execution_count": 79
  },
  {
   "cell_type": "code",
   "id": "35f9a22585293fcb",
   "metadata": {
    "ExecuteTime": {
     "end_time": "2025-01-11T18:19:05.223784Z",
     "start_time": "2025-01-11T18:19:05.214732Z"
    }
   },
   "source": [
    "# Splitting Data into train and cross validation set\n",
    "X = df.drop('SalePrice', axis=1)\n",
    "Y = df['SalePrice']\n",
    "print(len(X))\n",
    "\n",
    "X = X.values\n",
    "Y = Y.values\n",
    "\n",
    "X_train, X_cv, Y_train, Y_cv = train_test_split(X, Y, test_size=0.2, random_state=42)\n",
    "\n",
    "print(f'X_train shape: {X_train.shape}')\n",
    "print(f'X_cv shape: {X_cv.shape}')\n",
    "print(f'Y_train shape: {Y_train.shape}')\n",
    "print(f'Y_cv shape: {Y_cv.shape}')\n"
   ],
   "outputs": [
    {
     "name": "stdout",
     "output_type": "stream",
     "text": [
      "1460\n",
      "X_train shape: (1168, 22)\n",
      "X_cv shape: (292, 22)\n",
      "Y_train shape: (1168,)\n",
      "Y_cv shape: (292,)\n"
     ]
    }
   ],
   "execution_count": 80
  },
  {
   "metadata": {},
   "cell_type": "markdown",
   "source": "Linear Regression Model ",
   "id": "efebb84d0b4cdb6b"
  },
  {
   "cell_type": "code",
   "id": "659c1b713e01c8b9",
   "metadata": {
    "ExecuteTime": {
     "end_time": "2025-01-11T18:19:15.612168Z",
     "start_time": "2025-01-11T18:19:12.233460Z"
    }
   },
   "source": [
    "# Building a linear regression model\n",
    "degree = 4\n",
    "polys = []\n",
    "lr_models = []\n",
    "scalers = []\n",
    "lr = np.zeros((degree, 2))\n",
    "\n",
    "for i in range(1, degree + 1):\n",
    "    poly = PolynomialFeatures(degree=i, include_bias=False)\n",
    "    X_train_poly = poly.fit_transform(X_train)\n",
    "    X_cv_poly = poly.transform(X_cv)\n",
    "    polys.append(poly)\n",
    "\n",
    "    scaler = StandardScaler()\n",
    "    X_train_scaled = scaler.fit_transform(X_train_poly)\n",
    "    X_cv_scaled = scaler.transform(X_cv_poly)\n",
    "    scalers.append(scaler)\n",
    "    \n",
    "    print(f'Training Model with {i} degree polynomial')\n",
    "    model = LinearRegression()\n",
    "    model.fit(X_train_scaled, Y_train)\n",
    "    lr_models.append(model)\n",
    "    print(f'Trained Model with {i} degree polynomial')\n",
    "\n",
    "    yhat = model.predict(X_train_scaled)\n",
    "    error = root_mean_squared_error(Y_train, yhat) / 2\n",
    "    lr[i-1, 0] = error\n",
    "    \n",
    "    yhat_cv = model.predict(X_cv_scaled)\n",
    "    error_cv = root_mean_squared_error(Y_cv, yhat_cv) / 2\n",
    "    lr[i-1, 1] = error_cv\n",
    "\n",
    "# viewing results\n",
    "for i in range(degree):\n",
    "    print(f'Degree: {i + 1}, RMSE: {lr[i]}')\n"
   ],
   "outputs": [
    {
     "name": "stdout",
     "output_type": "stream",
     "text": [
      "Training Model with 1 degree polynomial\n",
      "Trained Model with 1 degree polynomial\n",
      "Training Model with 2 degree polynomial\n",
      "Trained Model with 2 degree polynomial\n",
      "Training Model with 3 degree polynomial\n",
      "Trained Model with 3 degree polynomial\n",
      "Training Model with 4 degree polynomial\n",
      "Trained Model with 4 degree polynomial\n",
      "Degree: 1, RMSE: [17489.64264121 18369.58805506]\n",
      "Degree: 2, RMSE: [ 9368.59824428 19082.51117349]\n",
      "Degree: 3, RMSE: [1.11316599e+02 1.94547016e+06]\n",
      "Degree: 4, RMSE: [1.11316599e+02 1.24669762e+06]\n"
     ]
    }
   ],
   "execution_count": 81
  },
  {
   "metadata": {},
   "cell_type": "markdown",
   "source": "Neural Network Model",
   "id": "61730e7bbd23698a"
  },
  {
   "cell_type": "code",
   "id": "7e2ddb7b86c39715",
   "metadata": {
    "ExecuteTime": {
     "end_time": "2025-01-11T18:19:15.983594Z",
     "start_time": "2025-01-11T18:19:15.976920Z"
    }
   },
   "source": [
    "# Using tensorflow to build a model\n",
    "\n",
    "def build_nn_model():\n",
    "    tf.random.set_seed(42)\n",
    "\n",
    "    model1 = Sequential(\n",
    "        [\n",
    "            Dense(120, activation='relu'),\n",
    "            Dense(60, activation='relu'),\n",
    "            Dense(30, activation='relu'),\n",
    "            Dense(1, activation='linear')\n",
    "        ],\n",
    "        name='model1'\n",
    "    )\n",
    "\n",
    "    model2 = Sequential(\n",
    "        [\n",
    "            Dense(200, activation='relu'),\n",
    "            Dense(150, activation='relu'),\n",
    "            Dense(120, activation='relu'),\n",
    "            Dense(100, activation='relu'),\n",
    "            Dense(75, activation='relu'),\n",
    "            Dense(50, activation='relu'),\n",
    "            Dense(25, activation='relu'),\n",
    "            Dense(1, activation='linear')\n",
    "        ],\n",
    "        name='model2'\n",
    "    )\n",
    "\n",
    "    model3 = Sequential(\n",
    "        [\n",
    "            Dense(50, activation='relu'),\n",
    "            Dense(25, activation='relu'),\n",
    "            Dense(1, activation='linear')\n",
    "        ],\n",
    "        name='model3'\n",
    "    )\n",
    "\n",
    "    model4 = Sequential(\n",
    "        [\n",
    "            Dense(300, activation='relu'),\n",
    "            Dense(250, activation='relu'),\n",
    "            Dense(200, activation='relu'),\n",
    "            Dense(150, activation='relu'),\n",
    "            Dense(100, activation='relu'),\n",
    "            Dense(50, activation='relu'),\n",
    "            Dense(25, activation='relu'),\n",
    "            Dense(1, activation='linear')\n",
    "        ],\n",
    "        name='model4'\n",
    "    )\n",
    "\n",
    "    models_nn = [model1, model2, model3, model4]\n",
    "    return models_nn"
   ],
   "outputs": [],
   "execution_count": 82
  },
  {
   "metadata": {
    "ExecuteTime": {
     "end_time": "2025-01-11T18:19:17.112495Z",
     "start_time": "2025-01-11T18:19:17.107752Z"
    }
   },
   "cell_type": "code",
   "source": [
    "# Using XGBoost\n",
    "def build_xgb_model():\n",
    "    xg1 = xgb.XGBRegressor(n_estimators=100000, learning_rate=0.001, reg_lambda=6)\n",
    "    xg2 = xgb.XGBRegressor(n_estimators=3000, learning_rate=0.03, max_depth=10, gamma=25, reg_lambda=10)\n",
    "    xg3 = xgb.XGBRegressor(n_estimators=2700, learning_rate=0.01, max_depth=5, gamma=24, reg_lambda=1)\n",
    "    xg4 = xgb.XGBRegressor(n_estimators=1500, learning_rate=0.03, max_depth=8, gamma=25, reg_lambda=2)\n",
    "\n",
    "    xg1.name = 'xg1'\n",
    "    xg2.name = 'xg2'\n",
    "    xg3.name = 'xg3'\n",
    "    xg4.name = 'xg4'\n",
    "\n",
    "    return [xg1, xg2, xg3, xg4]\n"
   ],
   "id": "cd401d936110458d",
   "outputs": [],
   "execution_count": 83
  },
  {
   "metadata": {
    "ExecuteTime": {
     "end_time": "2025-01-11T18:19:17.964010Z",
     "start_time": "2025-01-11T18:19:17.957679Z"
    }
   },
   "cell_type": "code",
   "source": [
    "# Scaling the training data for the xgboost and nn model\n",
    "nn_scaler = StandardScaler()\n",
    "nn_train = nn_scaler.fit_transform(X_train)\n",
    "nn_cv = nn_scaler.transform(X_cv)"
   ],
   "id": "503c813765455d1f",
   "outputs": [],
   "execution_count": 84
  },
  {
   "cell_type": "code",
   "id": "1c4d0a8e422688a5",
   "metadata": {
    "ExecuteTime": {
     "end_time": "2025-01-11T18:20:58.005899Z",
     "start_time": "2025-01-11T18:19:19.024482Z"
    }
   },
   "source": [
    "# Training the neural network models\n",
    "nn = np.zeros((4, 2))\n",
    "models = build_nn_model()\n",
    "i = 0\n",
    "for model in models:\n",
    "    scheduler = tf.keras.callbacks.ReduceLROnPlateau(monitor='loss', factor=0.1, patience=15, verbose=1)\n",
    "    # compiling the loss on model\n",
    "    model.compile(\n",
    "        loss= 'mse',\n",
    "        \n",
    "        optimizer = tf.keras.optimizers.Adam(learning_rate=0.01)\n",
    "    )\n",
    "    \n",
    "    print(f'Training: {model.name}')\n",
    "    model.fit(nn_train, Y_train, epochs= 300, verbose= 0, callbacks=[scheduler])\n",
    "    \n",
    "    print(f'Done Training: {model.name}')\n",
    "\n",
    "    \n",
    "    yhat = model.predict(nn_train)\n",
    "    error = root_mean_squared_error(Y_train, yhat)\n",
    "    nn[i, 0] = error\n",
    "    \n",
    "    yhat_cv = model.predict(nn_cv)\n",
    "    error_cv = root_mean_squared_error(Y_cv, yhat_cv)\n",
    "    nn[i, 1] = error_cv\n",
    "    i += 1\n",
    "print('Results:')\n",
    "for i in range(len(models)):\n",
    "    print(f'{models[i].name}: RMSE: {nn[i]}')"
   ],
   "outputs": [
    {
     "name": "stdout",
     "output_type": "stream",
     "text": [
      "Training: model1\n",
      "Done Training: model1\n",
      "\u001B[1m37/37\u001B[0m \u001B[32m━━━━━━━━━━━━━━━━━━━━\u001B[0m\u001B[37m\u001B[0m \u001B[1m0s\u001B[0m 3ms/step\n",
      "\u001B[1m10/10\u001B[0m \u001B[32m━━━━━━━━━━━━━━━━━━━━\u001B[0m\u001B[37m\u001B[0m \u001B[1m0s\u001B[0m 12ms/step\n",
      "Training: model2\n",
      "\n",
      "Epoch 85: ReduceLROnPlateau reducing learning rate to 0.0009999999776482583.\n",
      "Done Training: model2\n",
      "\u001B[1m37/37\u001B[0m \u001B[32m━━━━━━━━━━━━━━━━━━━━\u001B[0m\u001B[37m\u001B[0m \u001B[1m0s\u001B[0m 5ms/step\n",
      "\u001B[1m10/10\u001B[0m \u001B[32m━━━━━━━━━━━━━━━━━━━━\u001B[0m\u001B[37m\u001B[0m \u001B[1m0s\u001B[0m 10ms/step\n",
      "Training: model3\n",
      "Done Training: model3\n",
      "\u001B[1m37/37\u001B[0m \u001B[32m━━━━━━━━━━━━━━━━━━━━\u001B[0m\u001B[37m\u001B[0m \u001B[1m0s\u001B[0m 4ms/step\n",
      "\u001B[1m10/10\u001B[0m \u001B[32m━━━━━━━━━━━━━━━━━━━━\u001B[0m\u001B[37m\u001B[0m \u001B[1m0s\u001B[0m 8ms/step\n",
      "Training: model4\n",
      "\n",
      "Epoch 69: ReduceLROnPlateau reducing learning rate to 0.0009999999776482583.\n",
      "\n",
      "Epoch 278: ReduceLROnPlateau reducing learning rate to 9.999999310821295e-05.\n",
      "\n",
      "Epoch 293: ReduceLROnPlateau reducing learning rate to 9.999999019782991e-06.\n",
      "Done Training: model4\n",
      "\u001B[1m37/37\u001B[0m \u001B[32m━━━━━━━━━━━━━━━━━━━━\u001B[0m\u001B[37m\u001B[0m \u001B[1m0s\u001B[0m 7ms/step\n",
      "\u001B[1m10/10\u001B[0m \u001B[32m━━━━━━━━━━━━━━━━━━━━\u001B[0m\u001B[37m\u001B[0m \u001B[1m0s\u001B[0m 11ms/step\n",
      "Results:\n",
      "model1: RMSE: [16741.77929688 36185.96875   ]\n",
      "model2: RMSE: [ 9810.85058594 42389.765625  ]\n",
      "model3: RMSE: [24578.22070312 32405.67382812]\n",
      "model4: RMSE: [ 8006.5390625  39016.42578125]\n"
     ]
    }
   ],
   "execution_count": 85
  },
  {
   "metadata": {
    "ExecuteTime": {
     "end_time": "2025-01-11T18:23:14.009591Z",
     "start_time": "2025-01-11T18:20:58.041317Z"
    }
   },
   "cell_type": "code",
   "source": [
    "# Training the xgboost model\n",
    "xg = np.zeros((4, 2))\n",
    "xg_model = build_xgb_model()\n",
    "i = 0\n",
    "for model in xg_model:\n",
    "    print(f'Training {model.name}')\n",
    "    model.fit(nn_train, Y_train)\n",
    "    print(f'Trained {model.name}')\n",
    "\n",
    "    yhat = model.predict(nn_train)\n",
    "    error = root_mean_squared_error(Y_train, yhat)\n",
    "    xg[i, 0] = error\n",
    "\n",
    "    yhat_cv = model.predict(nn_cv)\n",
    "    error_cv = root_mean_squared_error(Y_cv, yhat_cv)\n",
    "    xg[i, 1] = error_cv\n",
    "\n",
    "    i += 1\n",
    "for i in range(len(xg_model)):\n",
    "    print(f'{xg_model[i].name}: RMSE: {xg[i]}')"
   ],
   "id": "5ae02d1537b2dfaa",
   "outputs": [
    {
     "name": "stdout",
     "output_type": "stream",
     "text": [
      "Training xg1\n",
      "Trained xg1\n",
      "Training xg2\n",
      "Trained xg2\n",
      "Training xg3\n",
      "Trained xg3\n",
      "Training xg4\n",
      "Trained xg4\n",
      "xg1: RMSE: [  596.72137451 27067.9765625 ]\n",
      "xg2: RMSE: [  517.83172607 28378.49609375]\n",
      "xg3: RMSE: [ 4224.78417969 26017.43945312]\n",
      "xg4: RMSE: [  525.11883545 28534.53125   ]\n"
     ]
    }
   ],
   "execution_count": 86
  },
  {
   "metadata": {
    "ExecuteTime": {
     "end_time": "2025-01-11T18:23:14.159074Z",
     "start_time": "2025-01-11T18:23:14.044687Z"
    }
   },
   "cell_type": "code",
   "source": [
    "# Visualizing the results of the models\n",
    "plt.plot(range(1, 5), lr[:, 1], label='RMSE for the linear regression')\n",
    "plt.plot(range(1, 5), nn[:, 1], label='RMSE for the neural network')\n",
    "plt.plot(range(1, 5), xg[:, 1], label='RMSE for the xgboost')\n",
    "plt.xlabel('Models')\n",
    "plt.ylabel('RMSE')\n",
    "plt.legend()\n",
    "plt.show()"
   ],
   "id": "1572d1c666b52c05",
   "outputs": [
    {
     "data": {
      "text/plain": [
       "<Figure size 1200x800 with 1 Axes>"
      ],
      "image/png": "[encoded data removed]"
     },
     "metadata": {},
     "output_type": "display_data"
    }
   ],
   "execution_count": 87
  },
  {
   "metadata": {
    "ExecuteTime": {
     "end_time": "2025-01-11T18:29:56.802486Z",
     "start_time": "2025-01-11T18:29:56.799065Z"
    }
   },
   "cell_type": "code",
   "source": [
    "# Selecting the best model\n",
    "lr_best = np.min(lr[:, 1])\n",
    "nn_best = np.min(nn[:, 1])\n",
    "xg_best = np.min(xg[:, 1])\n",
    "\n",
    "print(lr_best, nn_best, xg_best)\n"
   ],
   "id": "a5316c00c67e029",
   "outputs": [
    {
     "name": "stdout",
     "output_type": "stream",
     "text": [
      "18369.58805506067 32405.673828125 26017.439453125\n"
     ]
    }
   ],
   "execution_count": 92
  },
  {
   "cell_type": "code",
   "id": "fe13eea53e4941b6",
   "metadata": {
    "ExecuteTime": {
     "end_time": "2025-01-11T18:29:58.239643Z",
     "start_time": "2025-01-11T18:29:58.196573Z"
    }
   },
   "source": [
    "# Preprocessing the test data\n",
    "test_data = './data/test.csv'\n",
    "df_test = modifying_data(test_data)\n",
    "df_test = df_test.values\n",
    "# x_test_map = polys[0].transform(df_test)\n",
    "X_test_scaled = nn_scaler.transform(df_test)\n",
    "print(f'Test input after scaling: {X_test_scaled[:2]}')"
   ],
   "outputs": [
    {
     "name": "stdout",
     "output_type": "stream",
     "text": [
      "data before processing...\n",
      "     Id  MSSubClass MSZoning  LotFrontage  LotArea Street Alley LotShape  \\\n",
      "0  1461          20       RH         80.0    11622   Pave   NaN      Reg   \n",
      "1  1462          20       RL         81.0    14267   Pave   NaN      IR1   \n",
      "2  1463          60       RL         74.0    13830   Pave   NaN      IR1   \n",
      "3  1464          60       RL         78.0     9978   Pave   NaN      IR1   \n",
      "4  1465         120       RL         43.0     5005   Pave   NaN      IR1   \n",
      "\n",
      "  LandContour Utilities  ... ScreenPorch PoolArea PoolQC  Fence MiscFeature  \\\n",
      "0         Lvl    AllPub  ...         120        0    NaN  MnPrv         NaN   \n",
      "1         Lvl    AllPub  ...           0        0    NaN    NaN        Gar2   \n",
      "2         Lvl    AllPub  ...           0        0    NaN  MnPrv         NaN   \n",
      "3         Lvl    AllPub  ...           0        0    NaN    NaN         NaN   \n",
      "4         HLS    AllPub  ...         144        0    NaN    NaN         NaN   \n",
      "\n",
      "  MiscVal MoSold  YrSold  SaleType  SaleCondition  \n",
      "0       0      6    2010        WD         Normal  \n",
      "1   12500      6    2010        WD         Normal  \n",
      "2       0      3    2010        WD         Normal  \n",
      "3       0      6    2010        WD         Normal  \n",
      "4       0      1    2010        WD         Normal  \n",
      "\n",
      "[5 rows x 80 columns]\n",
      "Data after preprocessing:\n",
      "   LotFrontage  LotArea  OverallQual  OverallCond  YearBuilt  MasVnrArea  \\\n",
      "0         80.0    11622            5            6       1961         0.0   \n",
      "1         81.0    14267            6            6       1958       108.0   \n",
      "2         74.0    13830            5            5       1997         0.0   \n",
      "3         78.0     9978            6            6       1998        20.0   \n",
      "4         43.0     5005            8            5       1992         0.0   \n",
      "\n",
      "   BsmtFinSF1  BsmtUnfSF  TotalBsmtSF  1stFlrSF  ...  BsmtFullBath  \\\n",
      "0       468.0      270.0        882.0       896  ...           0.0   \n",
      "1       923.0      406.0       1329.0      1329  ...           0.0   \n",
      "2       791.0      137.0        928.0       928  ...           0.0   \n",
      "3       602.0      324.0        926.0       926  ...           0.0   \n",
      "4       263.0     1017.0       1280.0      1280  ...           0.0   \n",
      "\n",
      "   BsmtHalfBath  FullBath  HalfBath  BedroomAbvGr  KitchenAbvGr  TotRmsAbvGrd  \\\n",
      "0           0.0         1         0             2             1             5   \n",
      "1           0.0         1         1             3             1             6   \n",
      "2           0.0         2         1             3             1             6   \n",
      "3           0.0         2         1             3             1             7   \n",
      "4           0.0         2         0             2             1             5   \n",
      "\n",
      "   Fireplaces  GarageCars  PoolArea  \n",
      "0           0         1.0         0  \n",
      "1           0         1.0         0  \n",
      "2           1         2.0         0  \n",
      "3           1         2.0         0  \n",
      "4           0         2.0         0  \n",
      "\n",
      "[5 rows x 22 columns]\n",
      "Test input after scaling: [[ 0.44104726  0.08669258 -0.82044456  0.3722173  -0.32501586 -0.5978887\n",
      "   0.04789116 -0.67371792 -0.40811906 -0.70723826 -0.80192292 -1.20448634\n",
      "  -0.81869424 -0.24287002 -1.05556573 -0.76409752 -1.10677385 -0.21275711\n",
      "  -0.96456591 -0.95859215 -1.05654384 -0.07099284]\n",
      " [ 0.4855713   0.33263021 -0.08893368  0.3722173  -0.42285569  0.0275732\n",
      "   1.03944786 -0.36890371  0.60666536  0.41304409 -0.80192292 -0.37847856\n",
      "  -0.81869424 -0.24287002 -1.05556573  1.23694711  0.13621832 -0.21275711\n",
      "  -0.34690528 -0.95859215 -1.05654384 -0.07099284]]\n"
     ]
    }
   ],
   "execution_count": 93
  },
  {
   "cell_type": "code",
   "id": "a4495d258708cc17",
   "metadata": {
    "ExecuteTime": {
     "end_time": "2025-01-11T18:30:39.265749Z",
     "start_time": "2025-01-11T18:30:39.235024Z"
    }
   },
   "source": [
    "# Using the linear regression model to predict\n",
    "yhat_test = xg_model[2].predict(X_test_scaled)\n",
    "yhat_test = yhat_test.flatten()\n",
    "print(yhat_test[:10])"
   ],
   "outputs": [
    {
     "name": "stdout",
     "output_type": "stream",
     "text": [
      "[129414.48 156184.03 187943.83 183914.3  187527.3  177234.45 175366.64\n",
      " 166310.61 182020.9  118596.99]\n"
     ]
    }
   ],
   "execution_count": 94
  },
  {
   "metadata": {},
   "cell_type": "markdown",
   "source": "Selecting the neural network for the submission ",
   "id": "418ab51648b0bf8"
  },
  {
   "cell_type": "code",
   "id": "3d47debdb9070718",
   "metadata": {
    "ExecuteTime": {
     "end_time": "2025-01-11T18:30:52.243155Z",
     "start_time": "2025-01-11T18:30:52.232562Z"
    }
   },
   "source": [
    "# Selecting the neural network cause of its lover CV mse\n",
    "# Adding the prediction to the submission file\n",
    "df_sub = pd.read_csv('./data/sample_submission.csv')\n",
    "\n",
    "new_submission = pd.DataFrame({'Id': df_sub['Id'], 'SalePrice': yhat_test})\n",
    "new_submission.to_csv('./data/submission2.csv', index=False)\n",
    "print(len(yhat_test))\n",
    "print(len(df_sub))"
   ],
   "outputs": [
    {
     "name": "stdout",
     "output_type": "stream",
     "text": [
      "1459\n",
      "1459\n"
     ]
    }
   ],
   "execution_count": 95
  },
  {
   "cell_type": "code",
   "execution_count": null,
   "id": "ae901b15-65ed-4661-8243-2684118e7402",
   "metadata": {},
   "outputs": [],
   "source": []
  }
 ],
 "metadata": {
  "kernelspec": {
   "display_name": "Python 3 (ipykernel)",
   "language": "python",
   "name": "python3"
  },
  "language_info": {
   "codemirror_mode": {
    "name": "ipython",
    "version": 3
   },
   "file_extension": ".py",
   "mimetype": "text/x-python",
   "name": "python",
   "nbconvert_exporter": "python",
   "pygments_lexer": "ipython3",
   "version": "3.12.0"
  }
 },
 "nbformat": 4,
 "nbformat_minor": 5
}
